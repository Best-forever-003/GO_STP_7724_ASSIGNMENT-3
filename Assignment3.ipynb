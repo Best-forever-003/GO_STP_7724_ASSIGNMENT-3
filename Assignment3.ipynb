{
  "nbformat": 4,
  "nbformat_minor": 0,
  "metadata": {
    "colab": {
      "name": "Assignment3.ipynb",
      "provenance": [],
      "collapsed_sections": []
    },
    "kernelspec": {
      "name": "python3",
      "display_name": "Python 3"
    },
    "language_info": {
      "name": "python"
    }
  },
  "cells": [
    {
      "cell_type": "markdown",
      "metadata": {
        "id": "UaaY-R-95-cb"
      },
      "source": [
        "# **DAY 5: ASSIGNMENT 4 (Numpy)**\n",
        "\n",
        "# **DATE: 28 MAY 2021**\n",
        "\n",
        "# **AUTHOR: AAMIR P**\n",
        "\n",
        "# **REG. ID.: GO_STP_7724**"
      ]
    },
    {
      "cell_type": "markdown",
      "metadata": {
        "id": "5hMIWQKx60SJ"
      },
      "source": [
        "**1.Import the numpy package under the name np and Print the numpy version and the configuration**"
      ]
    },
    {
      "cell_type": "code",
      "metadata": {
        "colab": {
          "base_uri": "https://localhost:8080/"
        },
        "id": "LgkFgspb59uS",
        "outputId": "61f2ba50-aa0c-4191-ed04-769fe838af16"
      },
      "source": [
        "import numpy as np\n",
        "print(np.__version__)\n",
        "print(np.show_config())"
      ],
      "execution_count": 1,
      "outputs": [
        {
          "output_type": "stream",
          "text": [
            "1.19.5\n",
            "blas_mkl_info:\n",
            "  NOT AVAILABLE\n",
            "blis_info:\n",
            "  NOT AVAILABLE\n",
            "openblas_info:\n",
            "    libraries = ['openblas', 'openblas']\n",
            "    library_dirs = ['/usr/local/lib']\n",
            "    language = c\n",
            "    define_macros = [('HAVE_CBLAS', None)]\n",
            "blas_opt_info:\n",
            "    libraries = ['openblas', 'openblas']\n",
            "    library_dirs = ['/usr/local/lib']\n",
            "    language = c\n",
            "    define_macros = [('HAVE_CBLAS', None)]\n",
            "lapack_mkl_info:\n",
            "  NOT AVAILABLE\n",
            "openblas_lapack_info:\n",
            "    libraries = ['openblas', 'openblas']\n",
            "    library_dirs = ['/usr/local/lib']\n",
            "    language = c\n",
            "    define_macros = [('HAVE_CBLAS', None)]\n",
            "lapack_opt_info:\n",
            "    libraries = ['openblas', 'openblas']\n",
            "    library_dirs = ['/usr/local/lib']\n",
            "    language = c\n",
            "    define_macros = [('HAVE_CBLAS', None)]\n",
            "None\n"
          ],
          "name": "stdout"
        }
      ]
    },
    {
      "cell_type": "markdown",
      "metadata": {
        "id": "9wHpbRGG8WH7"
      },
      "source": [
        "**2.Create a null vector of size 10**"
      ]
    },
    {
      "cell_type": "code",
      "metadata": {
        "colab": {
          "base_uri": "https://localhost:8080/"
        },
        "id": "gh94kvqK8atA",
        "outputId": "77927f5b-a99b-4d1e-8f0d-a155b20afd8b"
      },
      "source": [
        "import numpy as np\n",
        "x=np.zeros(10)\n",
        "print(x)"
      ],
      "execution_count": 2,
      "outputs": [
        {
          "output_type": "stream",
          "text": [
            "[0. 0. 0. 0. 0. 0. 0. 0. 0. 0.]\n"
          ],
          "name": "stdout"
        }
      ]
    },
    {
      "cell_type": "markdown",
      "metadata": {
        "id": "aHhrs8pA9B7k"
      },
      "source": [
        "**3.Create Simple 1-D array and check type and check data types in array**\n"
      ]
    },
    {
      "cell_type": "code",
      "metadata": {
        "colab": {
          "base_uri": "https://localhost:8080/"
        },
        "id": "uI33OucL9Lat",
        "outputId": "5d656b9d-baf8-421e-cb58-97266ca1529b"
      },
      "source": [
        "import numpy as np\n",
        "a=np.array([4,5,6])\n",
        "print(type(a))\n",
        "print(a.dtype)"
      ],
      "execution_count": 3,
      "outputs": [
        {
          "output_type": "stream",
          "text": [
            "<class 'numpy.ndarray'>\n",
            "int64\n"
          ],
          "name": "stdout"
        }
      ]
    },
    {
      "cell_type": "markdown",
      "metadata": {
        "id": "OT7CoxOX9pd5"
      },
      "source": [
        "**4.How to find number of dimensions, bytes per element and bytes of memory used?**"
      ]
    },
    {
      "cell_type": "code",
      "metadata": {
        "colab": {
          "base_uri": "https://localhost:8080/"
        },
        "id": "_GsRX0Om9ujt",
        "outputId": "4a8a482b-ff08-4a9b-8773-f390f453c3a7"
      },
      "source": [
        "import numpy as np\n",
        "c=np.array([16,10,2000])\n",
        "print('Dimesion: ',c.ndim)\n",
        "print('Size of an array: ',c.size)\n",
        "print(\"Bytes per element: \",c.itemsize)\n",
        "print(\"Bytes of element used: \",c.nbytes)"
      ],
      "execution_count": 4,
      "outputs": [
        {
          "output_type": "stream",
          "text": [
            "Dimesion:  1\n",
            "Size of an array:  3\n",
            "Bytes per element:  8\n",
            "Bytes of element used:  24\n"
          ],
          "name": "stdout"
        }
      ]
    },
    {
      "cell_type": "markdown",
      "metadata": {
        "id": "5aYoPxzG_rm9"
      },
      "source": [
        "**5.Create a null vector of size 10 but the fifth value which is 1**\n"
      ]
    },
    {
      "cell_type": "code",
      "metadata": {
        "colab": {
          "base_uri": "https://localhost:8080/"
        },
        "id": "l4qvcE_r_vIm",
        "outputId": "e8275c5e-0b39-457f-ed4d-6ce3ce4df181"
      },
      "source": [
        "n = np.zeros(10)\n",
        "n[4]=1\n",
        "n"
      ],
      "execution_count": 5,
      "outputs": [
        {
          "output_type": "execute_result",
          "data": {
            "text/plain": [
              "array([0., 0., 0., 0., 1., 0., 0., 0., 0., 0.])"
            ]
          },
          "metadata": {
            "tags": []
          },
          "execution_count": 5
        }
      ]
    },
    {
      "cell_type": "markdown",
      "metadata": {
        "id": "mbgJXBwfAHHN"
      },
      "source": [
        "**6.Create a vector with values ranging from 10 to 49**"
      ]
    },
    {
      "cell_type": "code",
      "metadata": {
        "colab": {
          "base_uri": "https://localhost:8080/"
        },
        "id": "niU5YHIyAMGW",
        "outputId": "87eb0e15-fe6d-410c-c643-378dfd8cee01"
      },
      "source": [
        "vector=np.arange(10,50)\n",
        "vector"
      ],
      "execution_count": 6,
      "outputs": [
        {
          "output_type": "execute_result",
          "data": {
            "text/plain": [
              "array([10, 11, 12, 13, 14, 15, 16, 17, 18, 19, 20, 21, 22, 23, 24, 25, 26,\n",
              "       27, 28, 29, 30, 31, 32, 33, 34, 35, 36, 37, 38, 39, 40, 41, 42, 43,\n",
              "       44, 45, 46, 47, 48, 49])"
            ]
          },
          "metadata": {
            "tags": []
          },
          "execution_count": 6
        }
      ]
    },
    {
      "cell_type": "markdown",
      "metadata": {
        "id": "qNVtK5K_AXgr"
      },
      "source": [
        "**7.Reverse a vector (first element becomes last)**"
      ]
    },
    {
      "cell_type": "code",
      "metadata": {
        "colab": {
          "base_uri": "https://localhost:8080/"
        },
        "id": "-himzQsfAriK",
        "outputId": "d5fe6c9a-7ec4-4bcd-b0f4-519da26d59c7"
      },
      "source": [
        "print('Reversed vector: ',np.flip(vector))"
      ],
      "execution_count": 7,
      "outputs": [
        {
          "output_type": "stream",
          "text": [
            "Reversed vector:  [49 48 47 46 45 44 43 42 41 40 39 38 37 36 35 34 33 32 31 30 29 28 27 26\n",
            " 25 24 23 22 21 20 19 18 17 16 15 14 13 12 11 10]\n"
          ],
          "name": "stdout"
        }
      ]
    },
    {
      "cell_type": "markdown",
      "metadata": {
        "id": "zUZgkL4yA8JF"
      },
      "source": [
        "**8.Create a 3x3 matrix with values ranging from 0 to 8**\n"
      ]
    },
    {
      "cell_type": "code",
      "metadata": {
        "colab": {
          "base_uri": "https://localhost:8080/"
        },
        "id": "63GkWzUmBAaC",
        "outputId": "9468122f-0afb-40e7-d151-9d5171910a97"
      },
      "source": [
        "matrix=np.arange(0,9)\n",
        "matrix.reshape(3,3)"
      ],
      "execution_count": 8,
      "outputs": [
        {
          "output_type": "execute_result",
          "data": {
            "text/plain": [
              "array([[0, 1, 2],\n",
              "       [3, 4, 5],\n",
              "       [6, 7, 8]])"
            ]
          },
          "metadata": {
            "tags": []
          },
          "execution_count": 8
        }
      ]
    },
    {
      "cell_type": "markdown",
      "metadata": {
        "id": "-XrCiWhdBXo-"
      },
      "source": [
        "**9.Find indices of non-zero elements from [1,2,0,0,4,0]**"
      ]
    },
    {
      "cell_type": "code",
      "metadata": {
        "colab": {
          "base_uri": "https://localhost:8080/"
        },
        "id": "vuFMK9PBBZha",
        "outputId": "2ea510b2-8921-42e2-9be5-b771fb20eb5f"
      },
      "source": [
        "k = np.array([1,2,0,0,4,0])\n",
        "print(\"Orginal data: \",k)\n",
        "print('Indices of non-zero elements: ')\n",
        "for i in range(k.size):\n",
        "  if k[i] != 0:\n",
        "    print(k[i], end=\" \") "
      ],
      "execution_count": 9,
      "outputs": [
        {
          "output_type": "stream",
          "text": [
            "Orginal data:  [1 2 0 0 4 0]\n",
            "Indices of non-zero elements: \n",
            "1 2 4 "
          ],
          "name": "stdout"
        }
      ]
    },
    {
      "cell_type": "markdown",
      "metadata": {
        "id": "rifdo0TaEyct"
      },
      "source": [
        "**10.Create a 3x3 identity matrix**"
      ]
    },
    {
      "cell_type": "code",
      "metadata": {
        "colab": {
          "base_uri": "https://localhost:8080/"
        },
        "id": "yTmyDMTEE4Ov",
        "outputId": "c51dd06b-b1a9-463b-aa52-4eced1f0d1fa"
      },
      "source": [
        "np.identity(3)"
      ],
      "execution_count": 10,
      "outputs": [
        {
          "output_type": "execute_result",
          "data": {
            "text/plain": [
              "array([[1., 0., 0.],\n",
              "       [0., 1., 0.],\n",
              "       [0., 0., 1.]])"
            ]
          },
          "metadata": {
            "tags": []
          },
          "execution_count": 10
        }
      ]
    },
    {
      "cell_type": "markdown",
      "metadata": {
        "id": "DSKbJIhGFK3L"
      },
      "source": [
        "**11.Create a 3x3x3 array with random values**\n"
      ]
    },
    {
      "cell_type": "code",
      "metadata": {
        "colab": {
          "base_uri": "https://localhost:8080/"
        },
        "id": "TvHKBUvDFULh",
        "outputId": "8c3b7ab0-7c40-4f6d-a71d-c1870dfbd5d2"
      },
      "source": [
        "np.random.random((3,3,3))"
      ],
      "execution_count": 11,
      "outputs": [
        {
          "output_type": "execute_result",
          "data": {
            "text/plain": [
              "array([[[0.22269453, 0.25468269, 0.89580741],\n",
              "        [0.31391102, 0.98968635, 0.76397459],\n",
              "        [0.31637665, 0.09464802, 0.61663124]],\n",
              "\n",
              "       [[0.82081713, 0.10928195, 0.43330733],\n",
              "        [0.12079724, 0.81968455, 0.77579079],\n",
              "        [0.32632063, 0.54857219, 0.42195437]],\n",
              "\n",
              "       [[0.10810242, 0.92076091, 0.51297324],\n",
              "        [0.56818267, 0.29615092, 0.35108432],\n",
              "        [0.74285023, 0.602038  , 0.9609133 ]]])"
            ]
          },
          "metadata": {
            "tags": []
          },
          "execution_count": 11
        }
      ]
    },
    {
      "cell_type": "markdown",
      "metadata": {
        "id": "DE0baKAiFn4N"
      },
      "source": [
        "**12.Create a 10x10 array with random values and find the minimum and maximum values**"
      ]
    },
    {
      "cell_type": "code",
      "metadata": {
        "colab": {
          "base_uri": "https://localhost:8080/"
        },
        "id": "Ri2oTd_OFrut",
        "outputId": "adae4d45-2d6a-4866-c174-8ec441207775"
      },
      "source": [
        "matrix=np.random.random((10,10))\n",
        "print(matrix)\n",
        "print('min value: ',matrix.min())\n",
        "print('max value: ',matrix.max())"
      ],
      "execution_count": 12,
      "outputs": [
        {
          "output_type": "stream",
          "text": [
            "[[0.62069341 0.19799325 0.18798846 0.61924864 0.36042429 0.74684872\n",
            "  0.33125165 0.51266526 0.02323987 0.67715246]\n",
            " [0.51961994 0.42757476 0.48061053 0.18008725 0.54593732 0.51574039\n",
            "  0.88369375 0.0335481  0.91909236 0.13597779]\n",
            " [0.22653279 0.47968546 0.97201875 0.72120313 0.03311835 0.97693234\n",
            "  0.04411824 0.42949108 0.01353128 0.98650814]\n",
            " [0.17729666 0.58943093 0.79113695 0.51651605 0.60873907 0.29534409\n",
            "  0.79915855 0.87293144 0.87261119 0.79398967]\n",
            " [0.86122205 0.01078419 0.5611258  0.96808922 0.20937961 0.30849987\n",
            "  0.58045217 0.39268325 0.31530102 0.22880664]\n",
            " [0.60478624 0.21500342 0.8009728  0.37378472 0.06622361 0.41462718\n",
            "  0.92603146 0.42015115 0.50593288 0.73971264]\n",
            " [0.57775767 0.73646239 0.70123821 0.81595255 0.38561034 0.77408536\n",
            "  0.65879634 0.28859931 0.44850996 0.40187502]\n",
            " [0.09299923 0.23979983 0.41505404 0.80934175 0.27467518 0.11686222\n",
            "  0.14012959 0.37631898 0.58207979 0.17725298]\n",
            " [0.27705713 0.85695993 0.38910638 0.74552323 0.12868103 0.80547106\n",
            "  0.73763624 0.9056349  0.70099593 0.18070737]\n",
            " [0.70958204 0.50453724 0.15694386 0.04532718 0.01196067 0.6834539\n",
            "  0.38355519 0.18228515 0.49286744 0.34966684]]\n",
            "min value:  0.010784186063656054\n",
            "max value:  0.9865081402935887\n"
          ],
          "name": "stdout"
        }
      ]
    },
    {
      "cell_type": "markdown",
      "metadata": {
        "id": "mXHzhpOoGRph"
      },
      "source": [
        "**13. Create a random vector of size 30 and find the mean value**\n"
      ]
    },
    {
      "cell_type": "code",
      "metadata": {
        "colab": {
          "base_uri": "https://localhost:8080/"
        },
        "id": "MNYbzD54GYHx",
        "outputId": "e24eb34a-d169-4ce1-b7d3-74d5cae90dbb"
      },
      "source": [
        "random_vector=np.random.random((30))\n",
        "print(random_vector)\n",
        "print(\"Mean value: \",random_vector.mean())"
      ],
      "execution_count": 13,
      "outputs": [
        {
          "output_type": "stream",
          "text": [
            "[0.55802554 0.21051734 0.95136899 0.80811458 0.38585463 0.39606892\n",
            " 0.95537884 0.84077958 0.8987292  0.13287056 0.49398145 0.06770732\n",
            " 0.66996887 0.21875137 0.21057405 0.82947422 0.67521997 0.75417611\n",
            " 0.75684029 0.95631034 0.37275374 0.61857973 0.86297463 0.30627728\n",
            " 0.4059479  0.82148869 0.05742368 0.66073646 0.95738978 0.12965451]\n",
            "Mean value:  0.5654646190136685\n"
          ],
          "name": "stdout"
        }
      ]
    },
    {
      "cell_type": "markdown",
      "metadata": {
        "id": "DFz6nnqEG0De"
      },
      "source": [
        "**14. Create a 2d array with 1 on the border and 0 inside**"
      ]
    },
    {
      "cell_type": "code",
      "metadata": {
        "colab": {
          "base_uri": "https://localhost:8080/"
        },
        "id": "j02yoRA9G7zB",
        "outputId": "ee542e86-15ca-4c27-fc2e-6e52260506e7"
      },
      "source": [
        "d = np.ones((4,4))\n",
        "d[1:3,1:3]=0\n",
        "print(d)"
      ],
      "execution_count": 14,
      "outputs": [
        {
          "output_type": "stream",
          "text": [
            "[[1. 1. 1. 1.]\n",
            " [1. 0. 0. 1.]\n",
            " [1. 0. 0. 1.]\n",
            " [1. 1. 1. 1.]]\n"
          ],
          "name": "stdout"
        }
      ]
    },
    {
      "cell_type": "markdown",
      "metadata": {
        "id": "NdXhnBXOHzQj"
      },
      "source": [
        "**15. How to add a border (filled with 0's) around an existing array?**"
      ]
    },
    {
      "cell_type": "code",
      "metadata": {
        "colab": {
          "base_uri": "https://localhost:8080/"
        },
        "id": "tCWwxO0HH2mP",
        "outputId": "fd69f420-44e4-4bcc-e257-ea33b189cea3"
      },
      "source": [
        "e = np.zeros((4,4))\n",
        "e[1:3,1:3]=1\n",
        "print(e)"
      ],
      "execution_count": 15,
      "outputs": [
        {
          "output_type": "stream",
          "text": [
            "[[0. 0. 0. 0.]\n",
            " [0. 1. 1. 0.]\n",
            " [0. 1. 1. 0.]\n",
            " [0. 0. 0. 0.]]\n"
          ],
          "name": "stdout"
        }
      ]
    },
    {
      "cell_type": "markdown",
      "metadata": {
        "id": "WMo1avXDIJg6"
      },
      "source": [
        "**16.How to Accessing/Changing specific elements, rows, columns, etc in Numpy array?**\n",
        "\n",
        "**Example - [[ 1 2 3 4 5 6 7] [ 8 9 10 11 12 13 14]]**\n",
        "\n",
        "**i Get 13**\n",
        "\n",
        "**ii get first row only**\n",
        "\n",
        "**iii get 3rd column only**\n",
        "\n",
        "**iv get [2, 4, 6]**\n",
        "\n",
        "**v replace 13 by 20**"
      ]
    },
    {
      "cell_type": "code",
      "metadata": {
        "id": "-LU_kqorIUDy",
        "colab": {
          "base_uri": "https://localhost:8080/"
        },
        "outputId": "46aef27f-dc1f-4cc0-fb76-070a9861597e"
      },
      "source": [
        "#1\n",
        "arr=np.array([[ 1,2, 3 ,4 ,5, 6, 7] ,[ 8, 9, 10, 11, 12, 13, 14]])\n",
        "print(\"To get 13: \",arr[1,5])"
      ],
      "execution_count": 18,
      "outputs": [
        {
          "output_type": "stream",
          "text": [
            "To get 13:  13\n"
          ],
          "name": "stdout"
        }
      ]
    },
    {
      "cell_type": "code",
      "metadata": {
        "colab": {
          "base_uri": "https://localhost:8080/"
        },
        "id": "VmrHdHEV40ht",
        "outputId": "e83ead1f-66b3-4e0c-dbf7-0de93e386974"
      },
      "source": [
        "#2 \n",
        "print('To get first row',arr[0])\n"
      ],
      "execution_count": 20,
      "outputs": [
        {
          "output_type": "stream",
          "text": [
            "To get first row [1 2 3 4 5 6 7]\n"
          ],
          "name": "stdout"
        }
      ]
    },
    {
      "cell_type": "code",
      "metadata": {
        "colab": {
          "base_uri": "https://localhost:8080/"
        },
        "id": "_5zzuR-r44x9",
        "outputId": "f703fc23-e958-4ab5-e7e6-7489220c1b71"
      },
      "source": [
        "#3\n",
        "print('To get third column: ',arr[:,2])"
      ],
      "execution_count": 24,
      "outputs": [
        {
          "output_type": "stream",
          "text": [
            "To get third column:  [ 3 10]\n"
          ],
          "name": "stdout"
        }
      ]
    },
    {
      "cell_type": "code",
      "metadata": {
        "colab": {
          "base_uri": "https://localhost:8080/"
        },
        "id": "ANsQgx4L5nhO",
        "outputId": "ed8e9839-1d21-402d-8e89-293a9337634d"
      },
      "source": [
        "#4\n",
        "print(\"To get 2,4,6: \",arr[0,1:7:2])"
      ],
      "execution_count": 27,
      "outputs": [
        {
          "output_type": "stream",
          "text": [
            "To get 2,4,6:  [2 4 6]\n"
          ],
          "name": "stdout"
        }
      ]
    },
    {
      "cell_type": "code",
      "metadata": {
        "colab": {
          "base_uri": "https://localhost:8080/"
        },
        "id": "Ohm2y0Ke6Uwj",
        "outputId": "10414e82-4779-4d19-8f9b-3bacd676f667"
      },
      "source": [
        "#5\n",
        "arr[1,5]=20\n",
        "print(arr)"
      ],
      "execution_count": 32,
      "outputs": [
        {
          "output_type": "stream",
          "text": [
            "[[ 1  2  3  4  5  6  7]\n",
            " [ 8  9 10 11 12 20 14]]\n"
          ],
          "name": "stdout"
        }
      ]
    },
    {
      "cell_type": "markdown",
      "metadata": {
        "id": "8kwpnK6Z65eo"
      },
      "source": [
        "**17 How to Convert a 1D array to a 2D array with 2 rows**"
      ]
    },
    {
      "cell_type": "code",
      "metadata": {
        "colab": {
          "base_uri": "https://localhost:8080/"
        },
        "id": "SnjEzlYc68pN",
        "outputId": "4409b287-e6d5-4a61-eb54-71716b126bcb"
      },
      "source": [
        "oneD = np.random.random(4)\n",
        "oneD = oneD.reshape(2,2)\n",
        "print(oneD)"
      ],
      "execution_count": 33,
      "outputs": [
        {
          "output_type": "stream",
          "text": [
            "[[0.23564285 0.36227527]\n",
            " [0.40720727 0.18007223]]\n"
          ],
          "name": "stdout"
        }
      ]
    },
    {
      "cell_type": "markdown",
      "metadata": {
        "id": "hWWvKXZG7YHI"
      },
      "source": [
        "**18 Create the following pattern without hardcoding. Use only numpy functions and the below input array a**\n",
        "\n",
        "**Input: a = np.array([1,2,3])**`\n",
        "\n",
        "**Desired Output:**\n",
        "\n",
        "**array([1, 1, 1, 2, 2, 2, 3, 3, 3, 1, 2, 3, 1, 2, 3, 1, 2, 3])**"
      ]
    },
    {
      "cell_type": "code",
      "metadata": {
        "colab": {
          "base_uri": "https://localhost:8080/"
        },
        "id": "eVMBqFrR7gDN",
        "outputId": "ca801539-fb4b-4966-fb47-db4199986bd1"
      },
      "source": [
        " a = np.array([1,2,3])\n",
        " a=np.append(np.repeat(a,3),np.tile(a,3))\n",
        " print(a)\n",
        " #repeat for element-wise and tile for axis-wise. Append adds to the end of the array"
      ],
      "execution_count": 37,
      "outputs": [
        {
          "output_type": "stream",
          "text": [
            "[1 1 1 2 2 2 3 3 3 1 2 3 1 2 3 1 2 3]\n"
          ],
          "name": "stdout"
        }
      ]
    },
    {
      "cell_type": "markdown",
      "metadata": {
        "id": "om3X8Hff8zk1"
      },
      "source": [
        "**19) Write a program to show how Numpy taking less memory compared to Python List?**"
      ]
    },
    {
      "cell_type": "code",
      "metadata": {
        "colab": {
          "base_uri": "https://localhost:8080/"
        },
        "id": "I556KFHs83Ch",
        "outputId": "b1622248-dc6c-46cb-cbb4-974c6cecd770"
      },
      "source": [
        "l=range(1000)\n",
        "import sys\n",
        "a=10\n",
        "print(\"Size of list :\",sys.getsizeof(a)*len(l))\n",
        "a1=np.arange(1000)\n",
        "print(\"Size of nupy array\",a1.size*a1.itemsize)"
      ],
      "execution_count": 38,
      "outputs": [
        {
          "output_type": "stream",
          "text": [
            "Size of list : 28000\n",
            "Size of nupy array 8000\n"
          ],
          "name": "stdout"
        }
      ]
    },
    {
      "cell_type": "markdown",
      "metadata": {
        "id": "BqvKuykc9NSp"
      },
      "source": [
        "**20) Write a program to show how Numpy taking less time compared to Python List?**"
      ]
    },
    {
      "cell_type": "code",
      "metadata": {
        "colab": {
          "base_uri": "https://localhost:8080/"
        },
        "id": "DdxyjIv99PjG",
        "outputId": "0b4c7ab5-5ea0-41f5-c871-7998de66b637"
      },
      "source": [
        "import time\n",
        "import sys\n",
        "size=1000000\n",
        "l1=range(size)\n",
        "l2=range(size)\n",
        "n1=np.arange(size)\n",
        "n2=np.arange(size)\n",
        "start=time.time()\n",
        "result=[(x+y) for x,y in zip(l1,l2)]\n",
        "print(\"time taken by list :\",(time.time()-start)*1000)\n",
        "start=time.time()\n",
        "res1=n1+n2\n",
        "print(\"time taken by numpy array :\",(time.time()-start)*1000)"
      ],
      "execution_count": 39,
      "outputs": [
        {
          "output_type": "stream",
          "text": [
            "time taken by list : 137.34030723571777\n",
            "time taken by numpy array : 4.0073394775390625\n"
          ],
          "name": "stdout"
        }
      ]
    }
  ]
}